{
  "nbformat": 4,
  "nbformat_minor": 0,
  "metadata": {
    "colab": {
      "provenance": [],
      "authorship_tag": "ABX9TyP0t5o78PcBtsd/eOhMk037",
      "include_colab_link": true
    },
    "kernelspec": {
      "name": "python3",
      "display_name": "Python 3"
    },
    "language_info": {
      "name": "python"
    }
  },
  "cells": [
    {
      "cell_type": "markdown",
      "metadata": {
        "id": "view-in-github",
        "colab_type": "text"
      },
      "source": [
        "<a href=\"https://colab.research.google.com/github/ReemHL/Aruco_WebApp/blob/main/Web_Appi.ipynb\" target=\"_parent\"><img src=\"https://colab.research.google.com/assets/colab-badge.svg\" alt=\"Open In Colab\"/></a>"
      ]
    },
    {
      "cell_type": "code",
      "execution_count": null,
      "metadata": {
        "id": "vycSSlOReYel"
      },
      "outputs": [],
      "source": [
        "! pip install streamlit"
      ]
    },
    {
      "cell_type": "code",
      "source": [
        "import numpy as np # constructing arrays \n",
        "import skimage.io as io # read images in from files on your computer, to a form usable in a Python program\n",
        "import matplotlib.pyplot as plt # what does?\n",
        "from PIL import Image # data visualization, typically in the form of plots, graphs and charts\n",
        "import glob # list of pics\n",
        "from PIL.ExifTags import TAGS \n",
        "import cv2 as cv2 \n",
        "import streamlit as st"
      ],
      "metadata": {
        "id": "PCFwmcKIejgX"
      },
      "execution_count": 4,
      "outputs": []
    },
    {
      "cell_type": "code",
      "source": [
        "logo = 'logo.png'\n",
        "\n",
        "# main page\n",
        "st.set_page_config(page_title='Bring It', page_icon = logo , layout = 'wide', initial_sidebar_state = 'auto')\n",
        "st.title('Image Something Using Somewhat by Reem Har Levi')\n",
        "\n",
        "\n"
      ],
      "metadata": {
        "colab": {
          "base_uri": "https://localhost:8080/"
        },
        "id": "zUphTtfWexyF",
        "outputId": "2dfc202d-d318-4f1c-d0df-df33fbc48c89"
      },
      "execution_count": 6,
      "outputs": [
        {
          "output_type": "stream",
          "name": "stderr",
          "text": [
            "WARNING:root:\n",
            "  \u001b[33m\u001b[1mWarning:\u001b[0m to view this Streamlit app on a browser, run it with the following\n",
            "  command:\n",
            "\n",
            "    streamlit run /usr/local/lib/python3.8/dist-packages/ipykernel_launcher.py [ARGUMENTS]\n",
            "2022-12-08 16:13:56.882 \n",
            "  \u001b[33m\u001b[1mWarning:\u001b[0m to view this Streamlit app on a browser, run it with the following\n",
            "  command:\n",
            "\n",
            "    streamlit run /usr/local/lib/python3.8/dist-packages/ipykernel_launcher.py [ARGUMENTS]\n"
          ]
        },
        {
          "output_type": "execute_result",
          "data": {
            "text/plain": [
              "DeltaGenerator(_root_container=0, _provided_cursor=None, _parent=None, _block_type=None, _form_data=None)"
            ]
          },
          "metadata": {},
          "execution_count": 6
        }
      ]
    },
    {
      "cell_type": "code",
      "source": [],
      "metadata": {
        "id": "LckaR3tZgq-9"
      },
      "execution_count": null,
      "outputs": []
    }
  ]
}